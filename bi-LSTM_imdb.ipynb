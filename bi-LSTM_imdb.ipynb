{
 "cells": [
  {
   "cell_type": "code",
   "execution_count": 1,
   "metadata": {
    "collapsed": false
   },
   "outputs": [
    {
     "name": "stdout",
     "output_type": "stream",
     "text": [
      "Training Step: 3169  | total loss: \u001b[1m\u001b[32m0.26877\u001b[0m\u001b[0m | time: 313.222s\n",
      "| Adam | epoch: 010 | loss: 0.26877 - acc: 0.9027 -- iter: 20224/20250\n",
      "Training Step: 3170  | total loss: \u001b[1m\u001b[32m0.27285\u001b[0m\u001b[0m | time: 327.388s\n",
      "| Adam | epoch: 010 | loss: 0.27285 - acc: 0.9015 | val_loss: 0.51981 - val_acc: 0.7880 -- iter: 20250/20250\n",
      "--\n"
     ]
    }
   ],
   "source": [
    "from __future__ import division, print_function, absolute_import\n",
    "\n",
    "import tflearn\n",
    "from tflearn.data_utils import to_categorical, pad_sequences\n",
    "from tflearn.datasets import imdb\n",
    "from tflearn.layers.core import input_data, dropout, fully_connected\n",
    "from tflearn.layers.embedding_ops import embedding\n",
    "from tflearn.layers.recurrent import bidirectional_rnn, BasicLSTMCell\n",
    "from tflearn.layers.estimator import regression\n",
    "\n",
    "# IMDB Dataset loading\n",
    "train, test, _ = imdb.load_data(path='imdb.pkl', n_words=10000,\n",
    "                                valid_portion=0.1)\n",
    "trainX, trainY = train\n",
    "testX, testY = test\n",
    "\n",
    "# Data preprocessing\n",
    "# Sequence padding\n",
    "trainX = pad_sequences(trainX, maxlen=200, value=0.)\n",
    "testX = pad_sequences(testX, maxlen=200, value=0.)\n",
    "# Converting labels to binary vectors\n",
    "trainY = to_categorical(trainY, nb_classes=2)\n",
    "testY = to_categorical(testY, nb_classes=2)\n",
    "\n",
    "# Network building\n",
    "net = input_data(shape=[None, 200])\n",
    "net = embedding(net, input_dim=20000, output_dim=128)\n",
    "net = bidirectional_rnn(net, BasicLSTMCell(128), BasicLSTMCell(128))\n",
    "net = dropout(net, 0.5)\n",
    "net = fully_connected(net, 2, activation='softmax')\n",
    "net = regression(net, optimizer='adam', loss='categorical_crossentropy')\n",
    "\n",
    "# Training\n",
    "model = tflearn.DNN(net, clip_gradients=0., tensorboard_verbose=2)\n",
    "model.fit(trainX, trainY, validation_set=0.1, show_metric=True, batch_size=64)"
   ]
  },
  {
   "cell_type": "code",
   "execution_count": null,
   "metadata": {
    "collapsed": true
   },
   "outputs": [],
   "source": []
  },
  {
   "cell_type": "code",
   "execution_count": null,
   "metadata": {
    "collapsed": true
   },
   "outputs": [],
   "source": []
  }
 ],
 "metadata": {
  "kernelspec": {
   "display_name": "Python [HousePrice]",
   "language": "python",
   "name": "Python [HousePrice]"
  },
  "language_info": {
   "codemirror_mode": {
    "name": "ipython",
    "version": 3
   },
   "file_extension": ".py",
   "mimetype": "text/x-python",
   "name": "python",
   "nbconvert_exporter": "python",
   "pygments_lexer": "ipython3",
   "version": "3.6.0"
  }
 },
 "nbformat": 4,
 "nbformat_minor": 2
}
